{
 "cells": [
  {
   "cell_type": "code",
   "execution_count": null,
   "metadata": {
    "id": "srslpFTEUS_4"
   },
   "outputs": [],
   "source": [
    "import pandas as pd\n",
    "import numpy as np\n",
    "import re\n",
    "import pickle\n",
    "from collections import Counter, OrderedDict\n",
    "pd.options.mode.chained_assignment = None\n",
    "\n",
    "#!pip install stanfordnlp\n",
    "#stanfordnlp.download('hi')\n",
    "import stanfordnlp\n",
    "nlp = stanfordnlp.Pipeline(processors='tokenize,lemma',lang=\"hi\")"
   ]
  },
  {
   "cell_type": "code",
   "execution_count": null,
   "metadata": {
    "id": "bCXK0Qa8gQ33"
   },
   "outputs": [],
   "source": [
    "# Dataset import\n",
    "df = pd.read_csv('CommentsDataset.csv')"
   ]
  },
  {
   "cell_type": "code",
   "execution_count": null,
   "metadata": {
    "id": "x-nACfkegkFo"
   },
   "outputs": [],
   "source": [
    "# generating stopwords\n",
    "def gen_stopword():\n",
    "    st=pd.read_csv('hindi_stopwords.txt',sep='\\n')\n",
    "    stopwords=[]\n",
    "    for i in range(len(st)):\n",
    "        stopwords.append(st.loc[i, 'Stopwords'].strip())\n",
    "    return stopwords\n",
    "\n",
    "# lemmatization function\n",
    "def hi_lemma(w):\n",
    "    try:\n",
    "        doc = nlp(w)\n",
    "        tmp = [word.lemma for sent in doc.sentences for word in sent.words]\n",
    "        return tmp[0]\n",
    "    except:\n",
    "        return w\n",
    "\n",
    "def data_pre_processing(df_clean):\n",
    "    # removing url links\n",
    "    df_clean.Post = df_clean.Post.apply(lambda x: re.sub(r'https?:\\/\\/\\S+', '', x))\n",
    "    df_clean.Post = df_clean.Post.apply(lambda x: re.sub(r\"www\\.[a-z]?\\.?(com)+|[a-z]+\\.(com)\", '', x))\n",
    "    # removing @mention\n",
    "    df_clean.Post = df_clean.Post.apply(lambda x: re.sub(r'@[\\w]*', '', x))\n",
    "    # removing all remaining characters that aren't hindi devanagari characters or white space\n",
    "    df_clean.Post = df_clean.Post.apply(lambda x: re.sub(r\"[^ऀ-ॿ\\s]\", '', x))\n",
    "    # removing all special characters\n",
    "    df_clean.Post = df_clean.Post.apply(lambda x: re.sub(r\"[`'''`,~,!,@,#,$,%,^,&,*,(,),_,-,+,=,{,[,},},|,\\,:,;,\\\",',<,,,>,.,?,/'''`\\n।]\", '', x))\n",
    "    # removing emojis\n",
    "    emoji_pattern = re.compile(\"[\"\n",
    "                               u\"\\U0001F600-\\U0001F64F\"  # emoticons\n",
    "                               u\"\\U0001F300-\\U0001F5FF\"  # symbols & pictographs\n",
    "                               u\"\\U0001F680-\\U0001F6FF\"  # transport & map symbols\n",
    "                               u\"\\U0001F1E0-\\U0001F1FF\"  # flags (iOS)\n",
    "                               u\"\\U00002500-\\U00002BEF\"  # chinese char\n",
    "                               u\"\\U00002702-\\U000027B0\"\n",
    "                               u\"\\U00002702-\\U000027B0\"\n",
    "                               u\"\\U000024C2-\\U0001F251\"\n",
    "                               u\"\\U0001f926-\\U0001f937\"\n",
    "                               u\"\\U00010000-\\U0010ffff\"\n",
    "                               u\"\\u2640-\\u2642\"\n",
    "                               u\"\\u2600-\\u2B55\"\n",
    "                               u\"\\u200d\"\n",
    "                               u\"\\u23cf\"\n",
    "                               u\"\\u23e9\"\n",
    "                               u\"\\u231a\"\n",
    "                               u\"\\ufe0f\"  # dingbats\n",
    "                               u\"\\u3030\"\n",
    "                               \"]+\", flags=re.UNICODE)\n",
    "    df_clean.Post = df_clean.Post.apply(lambda x: emoji_pattern.sub(r'', x))\n",
    "    \n",
    "    # removing stopwords\n",
    "    stopwords = gen_stopword()\n",
    "    df_clean.Post = df_clean.Post.apply(lambda x: ' '.join([word for word in x.split() if word not in (stopwords)]))\n",
    "    \n",
    "    # tokenization\n",
    "    df_clean['token'] = df_clean.Post.apply(lambda x: x.split())\n",
    "    \n",
    "    # lemmatization\n",
    "    df_clean['lemma_token'] = df_clean.token.apply(lambda x: [hi_lemma(y) for y in x])\n",
    "    \n",
    "    # remove repeated tokens\n",
    "    df_clean['lemma_token'] = df_clean.lemma_token.apply(lambda x: list(OrderedDict.fromkeys(x)))\n",
    "    \n",
    "    df_clean['sentence'] = [' '.join(r) for r in df_clean['lemma_token'].values]\n",
    "    \n",
    "    return df_clean\n",
    "\n",
    "df = data_pre_processing(df)\n",
    "df"
   ]
  },
  {
   "cell_type": "code",
   "execution_count": null,
   "metadata": {},
   "outputs": [],
   "source": [
    "# Saving preprocessed dataset\n",
    "pickle.dump(df,open('preprocessed_dataset.pkl','wb'))"
   ]
  },
  {
   "cell_type": "code",
   "execution_count": null,
   "metadata": {
    "id": "l9dzONz2Yi7g"
   },
   "outputs": [],
   "source": [
    "# Loading preprocessed dataset\n",
    "df = pd.read_pickle('./preprocessed_dataset.pkl')"
   ]
  },
  {
   "cell_type": "code",
   "execution_count": null,
   "metadata": {
    "id": "ngaLzC5TZCSY"
   },
   "outputs": [],
   "source": [
    "X = df.sentence\n",
    "y = df.drop(['sentence','token'],axis=1)"
   ]
  },
  {
   "cell_type": "code",
   "execution_count": null,
   "metadata": {
    "id": "GmZFwnC5XegH"
   },
   "outputs": [],
   "source": [
    "from sklearn.model_selection import train_test_split\n",
    "X_train, X_test, y_train, y_test = train_test_split(X, y, test_size=0.2, random_state=42)"
   ]
  },
  {
   "cell_type": "code",
   "execution_count": null,
   "metadata": {
    "id": "P4bbDXhiic7d"
   },
   "outputs": [],
   "source": [
    "def gen_stopword():\n",
    "    st=pd.read_csv('hindi_stopwords.txt',sep='\\n')\n",
    "    stopwords=[]\n",
    "    for i in range(len(st)):\n",
    "        stopwords.append(st.loc[i, 'Stopwords'].strip())\n",
    "    return stopwords\n",
    "def my_tokenizer(s):\n",
    "    return s.split(' ')\n",
    "from sklearn.feature_extraction.text import TfidfVectorizer\n",
    "tfidf = TfidfVectorizer(min_df=2,ngram_range=(1,2),encoding='ISCII',tokenizer=my_tokenizer,stop_words=gen_stopword())\n",
    "X_train = tfidf.fit_transform(X_train).toarray()\n",
    "X_test = tfidf.transform(X_test)"
   ]
  },
  {
   "cell_type": "code",
   "execution_count": null,
   "metadata": {},
   "outputs": [],
   "source": [
    "# Saving TFIDF Vectorizer\n",
    "pickle.dump(tfidf, open('tfidf.pkl', 'wb'), protocol=pickle.HIGHEST_PROTOCOL)"
   ]
  },
  {
   "cell_type": "code",
   "execution_count": null,
   "metadata": {
    "id": "HN9YAm9Uju02"
   },
   "outputs": [],
   "source": [
    "from sklearn.feature_extraction.text import CountVectorizer\n",
    "vectorizer = CountVectorizer(min_df=2,ngram_range=(1,2),encoding='ISCII',tokenizer=my_tokenizer,stop_words=gen_stopword())\n",
    "X_train = vectorizer.fit_transform(X_train).toarray()\n",
    "X_test = vectorizer.transform(X_test)"
   ]
  },
  {
   "cell_type": "code",
   "execution_count": null,
   "metadata": {},
   "outputs": [],
   "source": [
    "# Saving Count Vectorizer\n",
    "pickle.dump(vectorizer, open('vectorizer.pkl', 'wb'), protocol=pickle.HIGHEST_PROTOCOL)"
   ]
  },
  {
   "cell_type": "code",
   "execution_count": null,
   "metadata": {
    "id": "oPFhBgokjzSJ"
   },
   "outputs": [],
   "source": [
    "from sklearn.ensemble import RandomForestClassifier\n",
    "from sklearn.metrics import classification_report"
   ]
  },
  {
   "cell_type": "code",
   "execution_count": null,
   "metadata": {
    "id": "rcmJJSqfj5EH"
   },
   "outputs": [],
   "source": [
    "Rf = RandomForestClassifier(n_estimators=100, random_state=42)\n",
    "Rf.fit(X_train, y_train)\n",
    "y_pred = Rf.predict(X_test)\n",
    "print(classification_report(y_test,y_pred))"
   ]
  },
  {
   "cell_type": "code",
   "execution_count": null,
   "metadata": {},
   "outputs": [],
   "source": [
    "# RF Model Saving\n",
    "pickle.dump(Rf,open('RandomForest.sav','wb'))"
   ]
  },
  {
   "cell_type": "code",
   "execution_count": null,
   "metadata": {},
   "outputs": [],
   "source": [
    "# RF Model Loading\n",
    "Rf = pickle.load(open(\"RandomForest.sav\",'rb'))"
   ]
  },
  {
   "cell_type": "code",
   "execution_count": null,
   "metadata": {
    "id": "j6kggHdGoPtf"
   },
   "outputs": [],
   "source": [
    "def counter_word(text):\n",
    "    count = Counter()\n",
    "    for i in text.values:\n",
    "        for word in i.split():\n",
    "            count[word] += 1\n",
    "    return count\n",
    "counter = counter_word(X_train)\n",
    "num_words = len(counter)\n",
    "max_length = 80"
   ]
  },
  {
   "cell_type": "code",
   "execution_count": null,
   "metadata": {
    "id": "LopYjOpRolAA"
   },
   "outputs": [],
   "source": [
    "from keras.preprocessing.text import Tokenizer\n",
    "from keras.preprocessing.sequence import pad_sequences\n",
    "from keras.models import Sequential\n",
    "from keras.layers import Embedding, LSTM, Dense"
   ]
  },
  {
   "cell_type": "code",
   "execution_count": null,
   "metadata": {
    "id": "dO7eUI8No-ZN"
   },
   "outputs": [],
   "source": [
    "tokenizer = Tokenizer(num_words=num_words)\n",
    "tokenizer.fit_on_texts(X_train)"
   ]
  },
  {
   "cell_type": "code",
   "execution_count": null,
   "metadata": {
    "id": "00RtdgsnpNMr"
   },
   "outputs": [],
   "source": [
    "word_index = tokenizer.word_index\n",
    "train_sequences = tokenizer.texts_to_sequences(X_train)\n",
    "X_train = pad_sequences(train_sequences, maxlen=max_length, padding=\"pre\", truncating=\"pre\")"
   ]
  },
  {
   "cell_type": "code",
   "execution_count": null,
   "metadata": {},
   "outputs": [],
   "source": [
    "# Saving Tokenizer\n",
    "pickle.dump(tokenizer, open('tokenizer.pkl', 'wb'), protocol=pickle.HIGHEST_PROTOCOL)"
   ]
  },
  {
   "cell_type": "code",
   "execution_count": null,
   "metadata": {
    "id": "EpbyEgPImvyk"
   },
   "outputs": [],
   "source": [
    "test_sequences = tokenizer.texts_to_sequences(X_test)\n",
    "X_test = pad_sequences(test_sequences, maxlen=max_length, padding=\"pre\", truncating=\"pre\")"
   ]
  },
  {
   "cell_type": "code",
   "execution_count": null,
   "metadata": {
    "id": "zg0tyPifqrXe"
   },
   "outputs": [],
   "source": [
    "model = Sequential()\n",
    "model.add(Embedding(num_words, 120, input_length=max_length))\n",
    "model.add(LSTM(64))\n",
    "model.add(Dense(3, activation=\"sigmoid\"))\n",
    "model.compile(loss='binary_crossentropy', optimizer='adam', metrics=['acc'])\n",
    "\n",
    "history = model.fit(X_train, y_train, epochs=3, batch_size=32)\n",
    "y_pred = model.predict(X_test)\n",
    "y_pred = y_pred[:,:]\n",
    "y_pred = np.round(y_pred)\n",
    "print(classification_report(y_test,y_pred))"
   ]
  },
  {
   "cell_type": "code",
   "execution_count": null,
   "metadata": {},
   "outputs": [],
   "source": [
    "# LSTM Model Saving and Loading\n",
    "model.save('LSTM.h5')\n",
    "\n",
    "from tensorflow import keras\n",
    "model = keras.models.load_model('LSTM.h5')"
   ]
  }
 ],
 "metadata": {
  "accelerator": "GPU",
  "colab": {
   "authorship_tag": "ABX9TyMxSIkhBdh8lRFLBburVBB+",
   "collapsed_sections": [],
   "name": "Toxic Comment Classifier.ipynb",
   "provenance": []
  },
  "gpuClass": "standard",
  "kernelspec": {
   "display_name": "Python 3 (ipykernel)",
   "language": "python",
   "name": "python3"
  },
  "language_info": {
   "codemirror_mode": {
    "name": "ipython",
    "version": 3
   },
   "file_extension": ".py",
   "mimetype": "text/x-python",
   "name": "python",
   "nbconvert_exporter": "python",
   "pygments_lexer": "ipython3",
   "version": "3.9.7"
  }
 },
 "nbformat": 4,
 "nbformat_minor": 1
}
